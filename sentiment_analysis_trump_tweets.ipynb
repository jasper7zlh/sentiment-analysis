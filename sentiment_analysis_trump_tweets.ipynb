{
  "nbformat": 4,
  "nbformat_minor": 0,
  "metadata": {
    "colab": {
      "name": "sentiment_analysis_trump_tweets.ipynb",
      "version": "0.3.2",
      "provenance": [],
      "collapsed_sections": []
    },
    "kernelspec": {
      "name": "python3",
      "display_name": "Python 3"
    },
    "accelerator": "GPU"
  },
  "cells": [
    {
      "metadata": {
        "id": "_9bwFz_8Qdmm",
        "colab_type": "text"
      },
      "cell_type": "markdown",
      "source": [
        "# Sentiment Analysis on Trump's Tweets Using Python"
      ]
    },
    {
      "metadata": {
        "id": "-RdKZzppHF-T",
        "colab_type": "code",
        "colab": {}
      },
      "cell_type": "code",
      "source": [
        "# General:\n",
        "import tweepy           # To consume Twitter's API\n",
        "import pandas as pd     # To handle data\n",
        "import numpy as np      # For number computing\n",
        "\n",
        "# For plotting and visualization:\n",
        "from IPython.display import display\n",
        "import matplotlib.pyplot as plt\n",
        "import seaborn as sns\n",
        "%matplotlib inline"
      ],
      "execution_count": 0,
      "outputs": []
    },
    {
      "metadata": {
        "id": "IEz5kSVsIWKh",
        "colab_type": "code",
        "colab": {}
      },
      "cell_type": "code",
      "source": [
        "# Twitter App access keys for @user\n",
        "\n",
        "# Consume:\n",
        "CONSUMER_KEY    = 'XEaHt4buWTWZlc3hxhOZg9Olg'\n",
        "CONSUMER_SECRET = 'BW2gVn00zzZWw6KEDiOSgAIJaDdD9B0MPCKvxYbZHYRbRsza0g'\n",
        "\n",
        "# Access:\n",
        "ACCESS_TOKEN  = '1913200051-Y2gCp8N6WC1dmEXbnRg0RreOETf1He0o1qIMTfj'\n",
        "ACCESS_SECRET = 'nyGC3uoEpDYyuI2RPiIAGdiqB9JlrWPHSWAksl5nWTvV7'"
      ],
      "execution_count": 0,
      "outputs": []
    },
    {
      "metadata": {
        "id": "OqVEIk2QLMrh",
        "colab_type": "code",
        "colab": {}
      },
      "cell_type": "code",
      "source": [
        "# We import our access keys:\n",
        "from credentials import *    # This will allow us to use the keys as variables\n",
        "\n",
        "# API's setup:\n",
        "def twitter_setup():\n",
        "    \"\"\"\n",
        "    Utility function to setup the Twitter's API\n",
        "    with our access keys provided.\n",
        "    \"\"\"\n",
        "    # Authentication and access using keys:\n",
        "    auth = tweepy.OAuthHandler(CONSUMER_KEY, CONSUMER_SECRET)\n",
        "    auth.set_access_token(ACCESS_TOKEN, ACCESS_SECRET)\n",
        "\n",
        "    # Return API with authentication:\n",
        "    api = tweepy.API(auth)\n",
        "    return api"
      ],
      "execution_count": 0,
      "outputs": []
    },
    {
      "metadata": {
        "id": "x5BYElkkLZRs",
        "colab_type": "code",
        "colab": {
          "base_uri": "https://localhost:8080/",
          "height": 275
        },
        "outputId": "ac8adcbd-fc57-46b7-a95c-048c4c1ff233"
      },
      "cell_type": "code",
      "source": [
        "# We create an extractor object:\n",
        "extractor = twitter_setup()\n",
        "\n",
        "# We create a tweet list as follows:\n",
        "tweets = extractor.user_timeline(screen_name = \"realDonaldTrump\", count = 200)\n",
        "print(\"Number of tweets extracted: {}.\\n\".format(len(tweets)))\n",
        "\n",
        "# We print the most recent 5 tweets:\n",
        "print(\"5 recent tweets:\\n\")\n",
        "for tweet in tweets[:5]:\n",
        "    print(tweet.text)\n",
        "    print()"
      ],
      "execution_count": 6,
      "outputs": [
        {
          "output_type": "stream",
          "text": [
            "Number of tweets extracted: 200.\n",
            "\n",
            "5 recent tweets:\n",
            "\n",
            "https://t.co/QUuEBfFo44\n",
            "\n",
            ".@RepMikeTurner  “The only time that Michael Cohen told the truth is when he pled that he is guilty.”  Also when he… https://t.co/e1W6uJ2I8x\n",
            "\n",
            "RT @MSNBC: President Trump and First Lady Melania Trump view memorial crosses for the 23 people killed in the Alabama tornadoes. https://t.…\n",
            "\n",
            "Unimaginable loss - Such great people! https://t.co/AV9oi8XuaE\n",
            "\n",
            "RT @IvankaTrump: Thank you for your exemplary service to our nation Secretary Wilson! https://t.co/sYGLGmOT4X\n",
            "\n"
          ],
          "name": "stdout"
        }
      ]
    },
    {
      "metadata": {
        "id": "RgWVjyeuL2x3",
        "colab_type": "code",
        "colab": {
          "base_uri": "https://localhost:8080/",
          "height": 359
        },
        "outputId": "ba351c52-4857-4a14-881a-ff586cc1297a"
      },
      "cell_type": "code",
      "source": [
        "# We create a pandas dataframe as follows:\n",
        "data = pd.DataFrame(data = [tweet.text for tweet in tweets], columns = ['Tweets'])\n",
        "\n",
        "# We display the first 10 elements of the dataframe:\n",
        "display(data.head(10))"
      ],
      "execution_count": 7,
      "outputs": [
        {
          "output_type": "display_data",
          "data": {
            "text/html": [
              "<div>\n",
              "<style scoped>\n",
              "    .dataframe tbody tr th:only-of-type {\n",
              "        vertical-align: middle;\n",
              "    }\n",
              "\n",
              "    .dataframe tbody tr th {\n",
              "        vertical-align: top;\n",
              "    }\n",
              "\n",
              "    .dataframe thead th {\n",
              "        text-align: right;\n",
              "    }\n",
              "</style>\n",
              "<table border=\"1\" class=\"dataframe\">\n",
              "  <thead>\n",
              "    <tr style=\"text-align: right;\">\n",
              "      <th></th>\n",
              "      <th>Tweets</th>\n",
              "    </tr>\n",
              "  </thead>\n",
              "  <tbody>\n",
              "    <tr>\n",
              "      <th>0</th>\n",
              "      <td>https://t.co/QUuEBfFo44</td>\n",
              "    </tr>\n",
              "    <tr>\n",
              "      <th>1</th>\n",
              "      <td>.@RepMikeTurner  “The only time that Michael C...</td>\n",
              "    </tr>\n",
              "    <tr>\n",
              "      <th>2</th>\n",
              "      <td>RT @MSNBC: President Trump and First Lady Mela...</td>\n",
              "    </tr>\n",
              "    <tr>\n",
              "      <th>3</th>\n",
              "      <td>Unimaginable loss - Such great people! https:/...</td>\n",
              "    </tr>\n",
              "    <tr>\n",
              "      <th>4</th>\n",
              "      <td>RT @IvankaTrump: Thank you for your exemplary ...</td>\n",
              "    </tr>\n",
              "    <tr>\n",
              "      <th>5</th>\n",
              "      <td>RT @FLOTUS: Happy #InternationalWomensDay2019 ...</td>\n",
              "    </tr>\n",
              "    <tr>\n",
              "      <th>6</th>\n",
              "      <td>RT @IvankaTrump: Happy International Women’s D...</td>\n",
              "    </tr>\n",
              "    <tr>\n",
              "      <th>7</th>\n",
              "      <td>RT @marklevinshow: Victor Davis Hanson is on n...</td>\n",
              "    </tr>\n",
              "    <tr>\n",
              "      <th>8</th>\n",
              "      <td>RT @marklevinshow: Ron DeSantis, America’s gov...</td>\n",
              "    </tr>\n",
              "    <tr>\n",
              "      <th>9</th>\n",
              "      <td>RT @cvpayne: Jobs Report:  Most Important High...</td>\n",
              "    </tr>\n",
              "  </tbody>\n",
              "</table>\n",
              "</div>"
            ],
            "text/plain": [
              "                                              Tweets\n",
              "0                            https://t.co/QUuEBfFo44\n",
              "1  .@RepMikeTurner  “The only time that Michael C...\n",
              "2  RT @MSNBC: President Trump and First Lady Mela...\n",
              "3  Unimaginable loss - Such great people! https:/...\n",
              "4  RT @IvankaTrump: Thank you for your exemplary ...\n",
              "5  RT @FLOTUS: Happy #InternationalWomensDay2019 ...\n",
              "6  RT @IvankaTrump: Happy International Women’s D...\n",
              "7  RT @marklevinshow: Victor Davis Hanson is on n...\n",
              "8  RT @marklevinshow: Ron DeSantis, America’s gov...\n",
              "9  RT @cvpayne: Jobs Report:  Most Important High..."
            ]
          },
          "metadata": {
            "tags": []
          }
        }
      ]
    },
    {
      "metadata": {
        "id": "LP_rY6pSMghi",
        "colab_type": "code",
        "colab": {
          "base_uri": "https://localhost:8080/",
          "height": 54
        },
        "outputId": "e8c0b6d5-95d9-4b8c-bf6a-358153ff0e3c"
      },
      "cell_type": "code",
      "source": [
        "# Internal methods of a single tweet object:\n",
        "print(dir(tweets[0]))"
      ],
      "execution_count": 8,
      "outputs": [
        {
          "output_type": "stream",
          "text": [
            "['__class__', '__delattr__', '__dict__', '__dir__', '__doc__', '__eq__', '__format__', '__ge__', '__getattribute__', '__getstate__', '__gt__', '__hash__', '__init__', '__init_subclass__', '__le__', '__lt__', '__module__', '__ne__', '__new__', '__reduce__', '__reduce_ex__', '__repr__', '__setattr__', '__sizeof__', '__str__', '__subclasshook__', '__weakref__', '_api', '_json', 'author', 'contributors', 'coordinates', 'created_at', 'destroy', 'entities', 'extended_entities', 'favorite', 'favorite_count', 'favorited', 'geo', 'id', 'id_str', 'in_reply_to_screen_name', 'in_reply_to_status_id', 'in_reply_to_status_id_str', 'in_reply_to_user_id', 'in_reply_to_user_id_str', 'is_quote_status', 'lang', 'parse', 'parse_list', 'place', 'possibly_sensitive', 'retweet', 'retweet_count', 'retweeted', 'retweets', 'source', 'source_url', 'text', 'truncated', 'user']\n"
          ],
          "name": "stdout"
        }
      ]
    },
    {
      "metadata": {
        "id": "he2_MxhbNHjz",
        "colab_type": "code",
        "colab": {
          "base_uri": "https://localhost:8080/",
          "height": 173
        },
        "outputId": "391956f8-8a01-4d8c-b0f2-90b99c713be7"
      },
      "cell_type": "code",
      "source": [
        "# We print info from the first tweet:\n",
        "print(tweets[0].id)\n",
        "print(tweets[0].created_at)\n",
        "print(tweets[0].source)\n",
        "print(tweets[0].favorite_count)\n",
        "print(tweets[0].retweet_count)\n",
        "print(tweets[0].geo)\n",
        "print(tweets[0].coordinates)\n",
        "print(tweets[0].entities)"
      ],
      "execution_count": 9,
      "outputs": [
        {
          "output_type": "stream",
          "text": [
            "1104189720211451905\n",
            "2019-03-09 01:18:38\n",
            "Twitter for iPhone\n",
            "47297\n",
            "13335\n",
            "None\n",
            "None\n",
            "{'hashtags': [], 'symbols': [], 'user_mentions': [], 'urls': [], 'media': [{'id': 1104189452598026241, 'id_str': '1104189452598026241', 'indices': [0, 23], 'media_url': 'http://pbs.twimg.com/ext_tw_video_thumb/1104189452598026241/pu/img/bduTCQIc9iSzSNub.jpg', 'media_url_https': 'https://pbs.twimg.com/ext_tw_video_thumb/1104189452598026241/pu/img/bduTCQIc9iSzSNub.jpg', 'url': 'https://t.co/QUuEBfFo44', 'display_url': 'pic.twitter.com/QUuEBfFo44', 'expanded_url': 'https://twitter.com/realDonaldTrump/status/1104189720211451905/video/1', 'type': 'photo', 'sizes': {'thumb': {'w': 150, 'h': 150, 'resize': 'crop'}, 'medium': {'w': 1200, 'h': 675, 'resize': 'fit'}, 'small': {'w': 680, 'h': 383, 'resize': 'fit'}, 'large': {'w': 1280, 'h': 720, 'resize': 'fit'}}}]}\n"
          ],
          "name": "stdout"
        }
      ]
    },
    {
      "metadata": {
        "id": "ju3ndkZVNS9C",
        "colab_type": "code",
        "colab": {}
      },
      "cell_type": "code",
      "source": [
        "# We add relevant data:\n",
        "data['len']  = np.array([len(tweet.text) for tweet in tweets])\n",
        "data['ID']   = np.array([tweet.id for tweet in tweets])\n",
        "data['Date'] = np.array([tweet.created_at for tweet in tweets])\n",
        "data['Source'] = np.array([tweet.source for tweet in tweets])\n",
        "data['Likes']  = np.array([tweet.favorite_count for tweet in tweets])\n",
        "data['RTs']    = np.array([tweet.retweet_count for tweet in tweets])"
      ],
      "execution_count": 0,
      "outputs": []
    },
    {
      "metadata": {
        "id": "X9nm5QtuNuVY",
        "colab_type": "code",
        "colab": {
          "base_uri": "https://localhost:8080/",
          "height": 359
        },
        "outputId": "49019295-fc87-46eb-bff0-18a12134dace"
      },
      "cell_type": "code",
      "source": [
        "# Display of first 10 elements from dataframe:\n",
        "display(data.head(10))"
      ],
      "execution_count": 11,
      "outputs": [
        {
          "output_type": "display_data",
          "data": {
            "text/html": [
              "<div>\n",
              "<style scoped>\n",
              "    .dataframe tbody tr th:only-of-type {\n",
              "        vertical-align: middle;\n",
              "    }\n",
              "\n",
              "    .dataframe tbody tr th {\n",
              "        vertical-align: top;\n",
              "    }\n",
              "\n",
              "    .dataframe thead th {\n",
              "        text-align: right;\n",
              "    }\n",
              "</style>\n",
              "<table border=\"1\" class=\"dataframe\">\n",
              "  <thead>\n",
              "    <tr style=\"text-align: right;\">\n",
              "      <th></th>\n",
              "      <th>Tweets</th>\n",
              "      <th>len</th>\n",
              "      <th>ID</th>\n",
              "      <th>Date</th>\n",
              "      <th>Source</th>\n",
              "      <th>Likes</th>\n",
              "      <th>RTs</th>\n",
              "    </tr>\n",
              "  </thead>\n",
              "  <tbody>\n",
              "    <tr>\n",
              "      <th>0</th>\n",
              "      <td>https://t.co/QUuEBfFo44</td>\n",
              "      <td>23</td>\n",
              "      <td>1104189720211451905</td>\n",
              "      <td>2019-03-09 01:18:38</td>\n",
              "      <td>Twitter for iPhone</td>\n",
              "      <td>47297</td>\n",
              "      <td>13335</td>\n",
              "    </tr>\n",
              "    <tr>\n",
              "      <th>1</th>\n",
              "      <td>.@RepMikeTurner  “The only time that Michael C...</td>\n",
              "      <td>140</td>\n",
              "      <td>1104159474368024599</td>\n",
              "      <td>2019-03-08 23:18:27</td>\n",
              "      <td>Twitter for iPhone</td>\n",
              "      <td>46429</td>\n",
              "      <td>11322</td>\n",
              "    </tr>\n",
              "    <tr>\n",
              "      <th>2</th>\n",
              "      <td>RT @MSNBC: President Trump and First Lady Mela...</td>\n",
              "      <td>140</td>\n",
              "      <td>1104155456019357703</td>\n",
              "      <td>2019-03-08 23:02:29</td>\n",
              "      <td>Twitter for iPhone</td>\n",
              "      <td>0</td>\n",
              "      <td>6597</td>\n",
              "    </tr>\n",
              "    <tr>\n",
              "      <th>3</th>\n",
              "      <td>Unimaginable loss - Such great people! https:/...</td>\n",
              "      <td>62</td>\n",
              "      <td>1104155064116101121</td>\n",
              "      <td>2019-03-08 23:00:56</td>\n",
              "      <td>Twitter for iPhone</td>\n",
              "      <td>66175</td>\n",
              "      <td>16976</td>\n",
              "    </tr>\n",
              "    <tr>\n",
              "      <th>4</th>\n",
              "      <td>RT @IvankaTrump: Thank you for your exemplary ...</td>\n",
              "      <td>109</td>\n",
              "      <td>1104154105847705600</td>\n",
              "      <td>2019-03-08 22:57:07</td>\n",
              "      <td>Twitter for iPhone</td>\n",
              "      <td>0</td>\n",
              "      <td>4719</td>\n",
              "    </tr>\n",
              "    <tr>\n",
              "      <th>5</th>\n",
              "      <td>RT @FLOTUS: Happy #InternationalWomensDay2019 ...</td>\n",
              "      <td>69</td>\n",
              "      <td>1104151444792451073</td>\n",
              "      <td>2019-03-08 22:46:33</td>\n",
              "      <td>Twitter for iPhone</td>\n",
              "      <td>0</td>\n",
              "      <td>8950</td>\n",
              "    </tr>\n",
              "    <tr>\n",
              "      <th>6</th>\n",
              "      <td>RT @IvankaTrump: Happy International Women’s D...</td>\n",
              "      <td>107</td>\n",
              "      <td>1104151403600203776</td>\n",
              "      <td>2019-03-08 22:46:23</td>\n",
              "      <td>Twitter for iPhone</td>\n",
              "      <td>0</td>\n",
              "      <td>4313</td>\n",
              "    </tr>\n",
              "    <tr>\n",
              "      <th>7</th>\n",
              "      <td>RT @marklevinshow: Victor Davis Hanson is on n...</td>\n",
              "      <td>120</td>\n",
              "      <td>1104132286440595456</td>\n",
              "      <td>2019-03-08 21:30:25</td>\n",
              "      <td>Twitter for iPhone</td>\n",
              "      <td>0</td>\n",
              "      <td>4608</td>\n",
              "    </tr>\n",
              "    <tr>\n",
              "      <th>8</th>\n",
              "      <td>RT @marklevinshow: Ron DeSantis, America’s gov...</td>\n",
              "      <td>75</td>\n",
              "      <td>1104131883061788672</td>\n",
              "      <td>2019-03-08 21:28:49</td>\n",
              "      <td>Twitter for iPhone</td>\n",
              "      <td>0</td>\n",
              "      <td>7268</td>\n",
              "    </tr>\n",
              "    <tr>\n",
              "      <th>9</th>\n",
              "      <td>RT @cvpayne: Jobs Report:  Most Important High...</td>\n",
              "      <td>140</td>\n",
              "      <td>1104131388960206848</td>\n",
              "      <td>2019-03-08 21:26:51</td>\n",
              "      <td>Twitter for iPhone</td>\n",
              "      <td>0</td>\n",
              "      <td>5433</td>\n",
              "    </tr>\n",
              "  </tbody>\n",
              "</table>\n",
              "</div>"
            ],
            "text/plain": [
              "                                              Tweets  len  \\\n",
              "0                            https://t.co/QUuEBfFo44   23   \n",
              "1  .@RepMikeTurner  “The only time that Michael C...  140   \n",
              "2  RT @MSNBC: President Trump and First Lady Mela...  140   \n",
              "3  Unimaginable loss - Such great people! https:/...   62   \n",
              "4  RT @IvankaTrump: Thank you for your exemplary ...  109   \n",
              "5  RT @FLOTUS: Happy #InternationalWomensDay2019 ...   69   \n",
              "6  RT @IvankaTrump: Happy International Women’s D...  107   \n",
              "7  RT @marklevinshow: Victor Davis Hanson is on n...  120   \n",
              "8  RT @marklevinshow: Ron DeSantis, America’s gov...   75   \n",
              "9  RT @cvpayne: Jobs Report:  Most Important High...  140   \n",
              "\n",
              "                    ID                Date              Source  Likes    RTs  \n",
              "0  1104189720211451905 2019-03-09 01:18:38  Twitter for iPhone  47297  13335  \n",
              "1  1104159474368024599 2019-03-08 23:18:27  Twitter for iPhone  46429  11322  \n",
              "2  1104155456019357703 2019-03-08 23:02:29  Twitter for iPhone      0   6597  \n",
              "3  1104155064116101121 2019-03-08 23:00:56  Twitter for iPhone  66175  16976  \n",
              "4  1104154105847705600 2019-03-08 22:57:07  Twitter for iPhone      0   4719  \n",
              "5  1104151444792451073 2019-03-08 22:46:33  Twitter for iPhone      0   8950  \n",
              "6  1104151403600203776 2019-03-08 22:46:23  Twitter for iPhone      0   4313  \n",
              "7  1104132286440595456 2019-03-08 21:30:25  Twitter for iPhone      0   4608  \n",
              "8  1104131883061788672 2019-03-08 21:28:49  Twitter for iPhone      0   7268  \n",
              "9  1104131388960206848 2019-03-08 21:26:51  Twitter for iPhone      0   5433  "
            ]
          },
          "metadata": {
            "tags": []
          }
        }
      ]
    },
    {
      "metadata": {
        "id": "v854fDSSNyf6",
        "colab_type": "code",
        "colab": {
          "base_uri": "https://localhost:8080/",
          "height": 34
        },
        "outputId": "1947d6b0-69c3-4908-84df-30f68197144a"
      },
      "cell_type": "code",
      "source": [
        "# We extract the mean of lenghts:\n",
        "mean = np.mean(data['len'])\n",
        "\n",
        "print(\"The lenght's average in tweets: {}\".format(mean))"
      ],
      "execution_count": 12,
      "outputs": [
        {
          "output_type": "stream",
          "text": [
            "The lenght's average in tweets: 121.98\n"
          ],
          "name": "stdout"
        }
      ]
    },
    {
      "metadata": {
        "id": "meKnlx6fN9PG",
        "colab_type": "code",
        "colab": {
          "base_uri": "https://localhost:8080/",
          "height": 207
        },
        "outputId": "b21b035e-d539-4cdf-a0c3-cf201a66abdc"
      },
      "cell_type": "code",
      "source": [
        "# We extract the tweet with more FAVs and more RTs:\n",
        "\n",
        "fav_max = np.max(data['Likes'])\n",
        "rt_max  = np.max(data['RTs'])\n",
        "\n",
        "fav = data[data.Likes == fav_max].index[0]\n",
        "rt  = data[data.RTs == rt_max].index[0]\n",
        "\n",
        "# Max FAVs:\n",
        "print(\"The tweet with more likes is: \\n{}\".format(data['Tweets'][fav]))\n",
        "print(\"Number of likes: {}\".format(fav_max))\n",
        "print(\"{} characters.\\n\".format(data['len'][fav]))\n",
        "\n",
        "# Max RTs:\n",
        "print(\"The tweet with more retweets is: \\n{}\".format(data['Tweets'][rt]))\n",
        "print(\"Number of retweets: {}\".format(rt_max))\n",
        "print(\"{} characters.\\n\".format(data['len'][rt]))"
      ],
      "execution_count": 13,
      "outputs": [
        {
          "output_type": "stream",
          "text": [
            "The tweet with more likes is: \n",
            ".@JussieSmollett - what about MAGA and the tens of millions of people you insulted with your racist and dangerous comments!? #MAGA\n",
            "Number of likes: 223104\n",
            "130 characters.\n",
            "\n",
            "The tweet with more retweets is: \n",
            "RT @realDonaldTrump: Senate Democrats just voted against legislation to prevent the killing of newborn infant children. The Democrat positi…\n",
            "Number of retweets: 66144\n",
            "140 characters.\n",
            "\n"
          ],
          "name": "stdout"
        }
      ]
    },
    {
      "metadata": {
        "id": "NdbXXFVvOE7R",
        "colab_type": "code",
        "colab": {}
      },
      "cell_type": "code",
      "source": [
        "# We create time series for data:\n",
        "\n",
        "tlen = pd.Series(data=data['len'].values, index=data['Date'])\n",
        "tfav = pd.Series(data=data['Likes'].values, index=data['Date'])\n",
        "tret = pd.Series(data=data['RTs'].values, index=data['Date'])"
      ],
      "execution_count": 0,
      "outputs": []
    },
    {
      "metadata": {
        "id": "2D0VfYmROPMp",
        "colab_type": "code",
        "colab": {
          "base_uri": "https://localhost:8080/",
          "height": 282
        },
        "outputId": "2b94d275-a65d-4d86-ae88-0761f7565c18"
      },
      "cell_type": "code",
      "source": [
        "# Lenghts along time:\n",
        "tlen.plot(figsize=(16,4), color='r');"
      ],
      "execution_count": 15,
      "outputs": [
        {
          "output_type": "display_data",
          "data": {
            "image/png": "[encoded data removed]",
            "text/plain": [
              "<Figure size 1152x288 with 1 Axes>"
            ]
          },
          "metadata": {
            "tags": []
          }
        }
      ]
    },
    {
      "metadata": {
        "id": "5I7KtsK7OSnf",
        "colab_type": "code",
        "colab": {
          "base_uri": "https://localhost:8080/",
          "height": 282
        },
        "outputId": "f3db2e58-3e83-47b3-9e73-647d74862c80"
      },
      "cell_type": "code",
      "source": [
        "# Likes vs retweets visualization:\n",
        "tfav.plot(figsize=(16,4), label=\"Likes\", legend=True)\n",
        "tret.plot(figsize=(16,4), label=\"Retweets\", legend=True);"
      ],
      "execution_count": 16,
      "outputs": [
        {
          "output_type": "display_data",
          "data": {
            "image/png": "[encoded data removed]",
            "text/plain": [
              "<Figure size 1152x288 with 1 Axes>"
            ]
          },
          "metadata": {
            "tags": []
          }
        }
      ]
    },
    {
      "metadata": {
        "id": "_wXoi-MQOZkE",
        "colab_type": "code",
        "colab": {
          "base_uri": "https://localhost:8080/",
          "height": 51
        },
        "outputId": "0aa4d7c6-e018-47ce-b76d-dec473b94fa9"
      },
      "cell_type": "code",
      "source": [
        "# We obtain all possible sources:\n",
        "sources = []\n",
        "for source in data['Source']:\n",
        "    if source not in sources:\n",
        "        sources.append(source)\n",
        "\n",
        "# We print sources list:\n",
        "print(\"Creation of content sources:\")\n",
        "for source in sources:\n",
        "    print(\"* {}\".format(source))"
      ],
      "execution_count": 17,
      "outputs": [
        {
          "output_type": "stream",
          "text": [
            "Creation of content sources:\n",
            "* Twitter for iPhone\n"
          ],
          "name": "stdout"
        }
      ]
    },
    {
      "metadata": {
        "id": "usQtYvdgOi6v",
        "colab_type": "code",
        "colab": {
          "base_uri": "https://localhost:8080/",
          "height": 357
        },
        "outputId": "874d5df8-cc71-49da-fac8-cd5753844d85"
      },
      "cell_type": "code",
      "source": [
        "# We create a numpy vector mapped to labels:\n",
        "percent = np.zeros(len(sources))\n",
        "\n",
        "for source in data['Source']:\n",
        "    for index in range(len(sources)):\n",
        "        if source == sources[index]:\n",
        "            percent[index] += 1\n",
        "            pass\n",
        "\n",
        "percent /= 100\n",
        "\n",
        "# Pie chart:\n",
        "pie_chart = pd.Series(percent, index=sources, name='Sources')\n",
        "pie_chart.plot.pie(fontsize=11, autopct='%.2f', figsize=(6, 6));"
      ],
      "execution_count": 18,
      "outputs": [
        {
          "output_type": "display_data",
          "data": {
            "image/png": "[encoded data removed]",
            "text/plain": [
              "<Figure size 432x432 with 1 Axes>"
            ]
          },
          "metadata": {
            "tags": []
          }
        }
      ]
    },
    {
      "metadata": {
        "id": "fyPnvjG0Oq_x",
        "colab_type": "code",
        "colab": {}
      },
      "cell_type": "code",
      "source": [
        "from textblob import TextBlob\n",
        "import re\n",
        "\n",
        "def clean_tweet(tweet):\n",
        "    '''\n",
        "    Utility function to clean the text in a tweet by removing \n",
        "    links and special characters using regex.\n",
        "    '''\n",
        "    return ' '.join(re.sub(\"(@[A-Za-z0-9]+)|([^0-9A-Za-z \\t])|(\\w+:\\/\\/\\S+)\", \" \", tweet).split())\n",
        "\n",
        "def analize_sentiment(tweet):\n",
        "    '''\n",
        "    Utility function to classify the polarity of a tweet\n",
        "    using textblob.\n",
        "    '''\n",
        "    analysis = TextBlob(clean_tweet(tweet))\n",
        "    if analysis.sentiment.polarity > 0:\n",
        "        return 1\n",
        "    elif analysis.sentiment.polarity == 0:\n",
        "        return 0\n",
        "    else:\n",
        "        return -1"
      ],
      "execution_count": 0,
      "outputs": []
    },
    {
      "metadata": {
        "id": "G3fjqvqeOylc",
        "colab_type": "code",
        "colab": {
          "base_uri": "https://localhost:8080/",
          "height": 529
        },
        "outputId": "8a71158c-d983-4e0b-85b7-03b3d44a5df7"
      },
      "cell_type": "code",
      "source": [
        "# We create a column with the result of the analysis:\n",
        "data['SA'] = np.array([analize_sentiment(tweet) for tweet in data['Tweets'] ])\n",
        "\n",
        "# We display the updated dataframe with the new column:\n",
        "display(data.head(10))"
      ],
      "execution_count": 20,
      "outputs": [
        {
          "output_type": "display_data",
          "data": {
            "text/html": [
              "<div>\n",
              "<style scoped>\n",
              "    .dataframe tbody tr th:only-of-type {\n",
              "        vertical-align: middle;\n",
              "    }\n",
              "\n",
              "    .dataframe tbody tr th {\n",
              "        vertical-align: top;\n",
              "    }\n",
              "\n",
              "    .dataframe thead th {\n",
              "        text-align: right;\n",
              "    }\n",
              "</style>\n",
              "<table border=\"1\" class=\"dataframe\">\n",
              "  <thead>\n",
              "    <tr style=\"text-align: right;\">\n",
              "      <th></th>\n",
              "      <th>Tweets</th>\n",
              "      <th>len</th>\n",
              "      <th>ID</th>\n",
              "      <th>Date</th>\n",
              "      <th>Source</th>\n",
              "      <th>Likes</th>\n",
              "      <th>RTs</th>\n",
              "      <th>SA</th>\n",
              "    </tr>\n",
              "  </thead>\n",
              "  <tbody>\n",
              "    <tr>\n",
              "      <th>0</th>\n",
              "      <td>https://t.co/QUuEBfFo44</td>\n",
              "      <td>23</td>\n",
              "      <td>1104189720211451905</td>\n",
              "      <td>2019-03-09 01:18:38</td>\n",
              "      <td>Twitter for iPhone</td>\n",
              "      <td>47297</td>\n",
              "      <td>13335</td>\n",
              "      <td>0</td>\n",
              "    </tr>\n",
              "    <tr>\n",
              "      <th>1</th>\n",
              "      <td>.@RepMikeTurner  “The only time that Michael C...</td>\n",
              "      <td>140</td>\n",
              "      <td>1104159474368024599</td>\n",
              "      <td>2019-03-08 23:18:27</td>\n",
              "      <td>Twitter for iPhone</td>\n",
              "      <td>46429</td>\n",
              "      <td>11322</td>\n",
              "      <td>-1</td>\n",
              "    </tr>\n",
              "    <tr>\n",
              "      <th>2</th>\n",
              "      <td>RT @MSNBC: President Trump and First Lady Mela...</td>\n",
              "      <td>140</td>\n",
              "      <td>1104155456019357703</td>\n",
              "      <td>2019-03-08 23:02:29</td>\n",
              "      <td>Twitter for iPhone</td>\n",
              "      <td>0</td>\n",
              "      <td>6597</td>\n",
              "      <td>1</td>\n",
              "    </tr>\n",
              "    <tr>\n",
              "      <th>3</th>\n",
              "      <td>Unimaginable loss - Such great people! https:/...</td>\n",
              "      <td>62</td>\n",
              "      <td>1104155064116101121</td>\n",
              "      <td>2019-03-08 23:00:56</td>\n",
              "      <td>Twitter for iPhone</td>\n",
              "      <td>66175</td>\n",
              "      <td>16976</td>\n",
              "      <td>1</td>\n",
              "    </tr>\n",
              "    <tr>\n",
              "      <th>4</th>\n",
              "      <td>RT @IvankaTrump: Thank you for your exemplary ...</td>\n",
              "      <td>109</td>\n",
              "      <td>1104154105847705600</td>\n",
              "      <td>2019-03-08 22:57:07</td>\n",
              "      <td>Twitter for iPhone</td>\n",
              "      <td>0</td>\n",
              "      <td>4719</td>\n",
              "      <td>0</td>\n",
              "    </tr>\n",
              "    <tr>\n",
              "      <th>5</th>\n",
              "      <td>RT @FLOTUS: Happy #InternationalWomensDay2019 ...</td>\n",
              "      <td>69</td>\n",
              "      <td>1104151444792451073</td>\n",
              "      <td>2019-03-08 22:46:33</td>\n",
              "      <td>Twitter for iPhone</td>\n",
              "      <td>0</td>\n",
              "      <td>8950</td>\n",
              "      <td>1</td>\n",
              "    </tr>\n",
              "    <tr>\n",
              "      <th>6</th>\n",
              "      <td>RT @IvankaTrump: Happy International Women’s D...</td>\n",
              "      <td>107</td>\n",
              "      <td>1104151403600203776</td>\n",
              "      <td>2019-03-08 22:46:23</td>\n",
              "      <td>Twitter for iPhone</td>\n",
              "      <td>0</td>\n",
              "      <td>4313</td>\n",
              "      <td>1</td>\n",
              "    </tr>\n",
              "    <tr>\n",
              "      <th>7</th>\n",
              "      <td>RT @marklevinshow: Victor Davis Hanson is on n...</td>\n",
              "      <td>120</td>\n",
              "      <td>1104132286440595456</td>\n",
              "      <td>2019-03-08 21:30:25</td>\n",
              "      <td>Twitter for iPhone</td>\n",
              "      <td>0</td>\n",
              "      <td>4608</td>\n",
              "      <td>1</td>\n",
              "    </tr>\n",
              "    <tr>\n",
              "      <th>8</th>\n",
              "      <td>RT @marklevinshow: Ron DeSantis, America’s gov...</td>\n",
              "      <td>75</td>\n",
              "      <td>1104131883061788672</td>\n",
              "      <td>2019-03-08 21:28:49</td>\n",
              "      <td>Twitter for iPhone</td>\n",
              "      <td>0</td>\n",
              "      <td>7268</td>\n",
              "      <td>0</td>\n",
              "    </tr>\n",
              "    <tr>\n",
              "      <th>9</th>\n",
              "      <td>RT @cvpayne: Jobs Report:  Most Important High...</td>\n",
              "      <td>140</td>\n",
              "      <td>1104131388960206848</td>\n",
              "      <td>2019-03-08 21:26:51</td>\n",
              "      <td>Twitter for iPhone</td>\n",
              "      <td>0</td>\n",
              "      <td>5433</td>\n",
              "      <td>1</td>\n",
              "    </tr>\n",
              "  </tbody>\n",
              "</table>\n",
              "</div>"
            ],
            "text/plain": [
              "                                              Tweets  len  \\\n",
              "0                            https://t.co/QUuEBfFo44   23   \n",
              "1  .@RepMikeTurner  “The only time that Michael C...  140   \n",
              "2  RT @MSNBC: President Trump and First Lady Mela...  140   \n",
              "3  Unimaginable loss - Such great people! https:/...   62   \n",
              "4  RT @IvankaTrump: Thank you for your exemplary ...  109   \n",
              "5  RT @FLOTUS: Happy #InternationalWomensDay2019 ...   69   \n",
              "6  RT @IvankaTrump: Happy International Women’s D...  107   \n",
              "7  RT @marklevinshow: Victor Davis Hanson is on n...  120   \n",
              "8  RT @marklevinshow: Ron DeSantis, America’s gov...   75   \n",
              "9  RT @cvpayne: Jobs Report:  Most Important High...  140   \n",
              "\n",
              "                    ID                Date              Source  Likes    RTs  \\\n",
              "0  1104189720211451905 2019-03-09 01:18:38  Twitter for iPhone  47297  13335   \n",
              "1  1104159474368024599 2019-03-08 23:18:27  Twitter for iPhone  46429  11322   \n",
              "2  1104155456019357703 2019-03-08 23:02:29  Twitter for iPhone      0   6597   \n",
              "3  1104155064116101121 2019-03-08 23:00:56  Twitter for iPhone  66175  16976   \n",
              "4  1104154105847705600 2019-03-08 22:57:07  Twitter for iPhone      0   4719   \n",
              "5  1104151444792451073 2019-03-08 22:46:33  Twitter for iPhone      0   8950   \n",
              "6  1104151403600203776 2019-03-08 22:46:23  Twitter for iPhone      0   4313   \n",
              "7  1104132286440595456 2019-03-08 21:30:25  Twitter for iPhone      0   4608   \n",
              "8  1104131883061788672 2019-03-08 21:28:49  Twitter for iPhone      0   7268   \n",
              "9  1104131388960206848 2019-03-08 21:26:51  Twitter for iPhone      0   5433   \n",
              "\n",
              "   SA  \n",
              "0   0  \n",
              "1  -1  \n",
              "2   1  \n",
              "3   1  \n",
              "4   0  \n",
              "5   1  \n",
              "6   1  \n",
              "7   1  \n",
              "8   0  \n",
              "9   1  "
            ]
          },
          "metadata": {
            "tags": []
          }
        }
      ]
    },
    {
      "metadata": {
        "id": "fFI6VO4rO23g",
        "colab_type": "code",
        "colab": {}
      },
      "cell_type": "code",
      "source": [
        "# We construct lists with classified tweets:\n",
        "\n",
        "pos_tweets = [ tweet for index, tweet in enumerate(data['Tweets']) if data['SA'][index] > 0]\n",
        "neu_tweets = [ tweet for index, tweet in enumerate(data['Tweets']) if data['SA'][index] == 0]\n",
        "neg_tweets = [ tweet for index, tweet in enumerate(data['Tweets']) if data['SA'][index] < 0]"
      ],
      "execution_count": 0,
      "outputs": []
    },
    {
      "metadata": {
        "id": "D_0SYP2FPZdw",
        "colab_type": "code",
        "colab": {
          "base_uri": "https://localhost:8080/",
          "height": 68
        },
        "outputId": "09a2fee4-459b-427f-be65-fa2b546d38b2"
      },
      "cell_type": "code",
      "source": [
        "# We print percentages:\n",
        "\n",
        "print(\"Percentage of positive tweets: {}%\".format(len(pos_tweets)*100/len(data['Tweets'])))\n",
        "print(\"Percentage of neutral tweets: {}%\".format(len(neu_tweets)*100/len(data['Tweets'])))\n",
        "print(\"Percentage de negative tweets: {}%\".format(len(neg_tweets)*100/len(data['Tweets'])))"
      ],
      "execution_count": 22,
      "outputs": [
        {
          "output_type": "stream",
          "text": [
            "Percentage of positive tweets: 49.5%\n",
            "Percentage of neutral tweets: 30.0%\n",
            "Percentage de negative tweets: 20.5%\n"
          ],
          "name": "stdout"
        }
      ]
    },
    {
      "metadata": {
        "id": "uqLIz3DIPeqR",
        "colab_type": "code",
        "colab": {}
      },
      "cell_type": "code",
      "source": [
        ""
      ],
      "execution_count": 0,
      "outputs": []
    }
  ]
}